{
 "cells": [
  {
   "cell_type": "markdown",
   "metadata": {},
   "source": [
    "# equation generation - build_derivs\n",
    "An atomsim function for generating the von Neumann ODE system to be passed to a numerical solver, given a specified Hamiltonian."
   ]
  },
  {
   "cell_type": "code",
   "execution_count": 1,
   "metadata": {},
   "outputs": [],
   "source": [
    "#### modules\n",
    "import numpy as np\n",
    "from sympy import MatrixSymbol,MatMul,Matrix,symbols,Function\n",
    "from sympy.utilities.lambdify import lambdify\n",
    "import sympy as sp\n",
    "from matplotlib import pyplot as plt\n",
    "from scipy.integrate import solve_ivp\n",
    "import time\n",
    "\n",
    "#### local classes\n",
    "from physconsts import hbar\n",
    "\n",
    "#### the derivative generator itself\n",
    "from atomsim import build_derivs"
   ]
  },
  {
   "cell_type": "markdown",
   "metadata": {},
   "source": [
    "## ex. 1: time-independent fields"
   ]
  },
  {
   "cell_type": "code",
   "execution_count": 2,
   "metadata": {
    "scrolled": true
   },
   "outputs": [
    {
     "name": "stdout",
     "output_type": "stream",
     "text": [
      "Equations: \n",
      "\n",
      "D[r00] = -9.48252172113838e+33*I*(5.272859e-35*r01 - 5.272859e-35*conjugate(r01))\n",
      "\n",
      "D[r01] = -9.48252172113838e+33*I*(5.272859e-35*r00 - 1.0545718e-33*r01 + 5.272859e-35*r02 - 5.272859e-35*r11)\n",
      "\n",
      "D[r02] = -9.48252172113838e+33*I*(5.272859e-35*r01 - 5.272859e-35*r12)\n",
      "\n",
      "D[r11] = -9.48252172113838e+33*I*(-5.272859e-35*r01 + 5.272859e-35*r12 + 5.272859e-35*conjugate(r01) - 5.272859e-35*conjugate(r12))\n",
      "\n",
      "D[r12] = -9.48252172113838e+33*I*(-5.272859e-35*r02 + 5.272859e-35*r11 + 1.0545718e-33*r12 - 5.272859e-35*r22)\n",
      "\n",
      "D[r22] = -9.48252172113838e+33*I*(-5.272859e-35*r12 + 5.272859e-35*conjugate(r12))\n",
      "\n"
     ]
    }
   ],
   "source": [
    "# here's how to build the ODE system from a Hamiltonian  \n",
    "\n",
    "O1 = O2 = 1\n",
    "D = 10 # detuning much greater than Rabi freq\n",
    "\n",
    "H = hbar*Matrix([[0,O1/2,0],[O1/2,-D,O2/2],[0,O2/2,0]]) # RWA\n",
    "\n",
    "derivs = build_derivs(H, showeqs=True)"
   ]
  },
  {
   "cell_type": "code",
   "execution_count": 3,
   "metadata": {},
   "outputs": [
    {
     "name": "stdout",
     "output_type": "stream",
     "text": [
      "completed in 354.08663749694824 ms\n"
     ]
    }
   ],
   "source": [
    "# solve the system\n",
    "\n",
    "# unraveled non-redundant density matrix elements\n",
    "r0 = np.zeros(6, dtype=complex) \n",
    "r0[0] = 1+0j # start in groundstate\n",
    "\n",
    "t_exp = 124 # units lifetime maybe\n",
    "\n",
    "t0 = time.time()\n",
    "soln = solve_ivp(derivs,[0,t_exp],r0)\n",
    "print(f\"completed in {(time.time()-t0)*1000} ms\")"
   ]
  },
  {
   "cell_type": "code",
   "execution_count": 4,
   "metadata": {
    "scrolled": false
   },
   "outputs": [
    {
     "data": {
      "text/plain": [
       "<matplotlib.legend.Legend at 0x19cf623d978>"
      ]
     },
     "execution_count": 4,
     "metadata": {},
     "output_type": "execute_result"
    },
    {
     "data": {
      "image/png": "[encoded data removed]",
      "text/plain": [
       "<Figure size 432x288 with 1 Axes>"
      ]
     },
     "metadata": {
      "needs_background": "light"
     },
     "output_type": "display_data"
    }
   ],
   "source": [
    "# plot it\n",
    "for i,var in zip(range(len(r0)), ['r00','r01','r02','r11','r12','r22']):\n",
    "    plt.plot(soln.t,np.real(soln.y[i]), label=var)\n",
    "plt.plot(soln.t, np.real(soln.y[0]+soln.y[-1]),label=\"r00+r22\")\n",
    "plt.legend(loc='best')"
   ]
  },
  {
   "cell_type": "markdown",
   "metadata": {},
   "source": [
    "## ex. 2: time-dependent fields"
   ]
  },
  {
   "cell_type": "code",
   "execution_count": 5,
   "metadata": {
    "scrolled": true
   },
   "outputs": [
    {
     "name": "stdout",
     "output_type": "stream",
     "text": [
      "Equations: \n",
      "\n",
      "D[r00] = -9.48252172113838e+33*I*(5.272859e-35*r01*O1(t) - 5.272859e-35*O1(t)*conjugate(r01))\n",
      "\n",
      "D[r01] = -9.48252172113838e+33*I*(5.272859e-35*r00*O1(t) - 1.0545718e-34*r01*D(t) + 5.272859e-35*r02*O2(t) - 5.272859e-35*r11*O1(t))\n",
      "\n",
      "D[r02] = -9.48252172113838e+33*I*(5.272859e-35*r01*O2(t) - 5.272859e-35*r12*O1(t))\n",
      "\n",
      "D[r11] = -9.48252172113838e+33*I*(-5.272859e-35*r01*O1(t) + 5.272859e-35*r12*O2(t) + 5.272859e-35*O1(t)*conjugate(r01) - 5.272859e-35*O2(t)*conjugate(r12))\n",
      "\n",
      "D[r12] = -9.48252172113838e+33*I*(-5.272859e-35*r02*O1(t) + 5.272859e-35*r11*O2(t) + 1.0545718e-34*r12*D(t) - 5.272859e-35*r22*O2(t))\n",
      "\n",
      "D[r22] = -9.48252172113838e+33*I*(-5.272859e-35*r12*O2(t) + 5.272859e-35*O2(t)*conjugate(r12))\n",
      "\n"
     ]
    }
   ],
   "source": [
    "# build completely generic eqs; good for checking what your \n",
    "# equations look like. the deriv builder will work just fine with \n",
    "# this, but the solver will obviously not be able to solve the derivs \n",
    "# function.\n",
    "\n",
    "# symbolic time varying fields and detunings\n",
    "O1 = Function('O1')('t') \n",
    "O2 = Function('O2')('t')\n",
    "D = Function('D')('t')\n",
    "\n",
    "# could define fields after this if desired.  \n",
    "\n",
    "# note that i did not use sympy Symbols for O1, O2, and D. This has to\n",
    "# do with the way I am printing the equations; I could change this in\n",
    "# the future.\n",
    "\n",
    "# hbar will cancel out in the eqs\n",
    "H = hbar*Matrix([[0,O1/2,0],[O1/2,-D,O2/2],[0,O2/2,0]])\n",
    "\n",
    "derivs = build_derivs(H, showeqs=True)"
   ]
  }
 ],
 "metadata": {
  "kernelspec": {
   "display_name": "Python 3",
   "language": "python",
   "name": "python3"
  },
  "language_info": {
   "codemirror_mode": {
    "name": "ipython",
    "version": 3
   },
   "file_extension": ".py",
   "mimetype": "text/x-python",
   "name": "python",
   "nbconvert_exporter": "python",
   "pygments_lexer": "ipython3",
   "version": "3.7.3"
  }
 },
 "nbformat": 4,
 "nbformat_minor": 2
}
