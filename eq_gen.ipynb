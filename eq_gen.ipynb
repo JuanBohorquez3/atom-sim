{
 "cells": [
  {
   "cell_type": "code",
   "execution_count": 1,
   "metadata": {},
   "outputs": [],
   "source": [
    "# nth attempt to generate ODE eqs (Von Neumann RHS) \n",
    "# given a hamiltonian. and eventually be able to make the RWA"
   ]
  },
  {
   "cell_type": "code",
   "execution_count": 1,
   "metadata": {},
   "outputs": [],
   "source": [
    "#### modules\n",
    "import numpy as np\n",
    "from sympy.parsing.sympy_parser import parse_expr\n",
    "from sympy import MatrixSymbol,MatMul,Identity,I,Matrix,symbols,Function\n",
    "from sympy.utilities.lambdify import lambdify, implemented_function\n",
    "from sympy.utilities.iterables import flatten\n",
    "import sympy as sp\n",
    "from matplotlib import pyplot as plt\n",
    "from scipy.integrate import solve_ivp\n",
    "import time\n",
    "\n",
    "#### local classes\n",
    "from physconsts import hbar"
   ]
  },
  {
   "cell_type": "code",
   "execution_count": 2,
   "metadata": {},
   "outputs": [],
   "source": [
    "#### functions\n",
    "\n",
    "def comm(A,B):\n",
    "    \"\"\"\n",
    "    return commutator(A, B)[A,B]=A.B-B.A. Assumes symbolic matrix.\n",
    "    \"\"\"\n",
    "    assert A.shape == B.shape, (f\"A,B must have the same shape, but\"+\n",
    "                                f\"A.shape={A.shape} != B.shape={B.shape}\")\n",
    "    return (MatMul(A,B)-MatMul(B,A)) #.as_mutable"
   ]
  },
  {
   "cell_type": "code",
   "execution_count": 3,
   "metadata": {},
   "outputs": [],
   "source": [
    "def build_derivs(ham, showeqs=False, lambdifyhelp=False):\n",
    "    \"\"\"\n",
    "    return derivatives function with call signature:\n",
    "    derivs(y0, t) where y0 = [r11, r12, ...] \n",
    "    is the unraveled non-redundant density matrix\n",
    "    \n",
    "    'ham': a square sympy Matrix representing the full\n",
    "        system Hamiltonian\n",
    "    \"\"\"\n",
    "    assert ham.shape[0] == ham.shape[1], (\"Hamiltonian\"+\n",
    "                                             \" must be square, \"+\n",
    "                                             f\"not of shape \"+\n",
    "                                              str(ham.shape))\n",
    "    dims = ham.shape[0]\n",
    "    # build a symbolic density matrix\n",
    "    r = MatrixSymbol('r', dims, dims).as_mutable()\n",
    "    for i in range(dims):\n",
    "        for j in range(dims):\n",
    "            r[i,j] = symbols(f'r{i}{j}')\n",
    "            if i > j:\n",
    "                r[i,j] = np.conj(r[j,i])\n",
    "#     print(r) \n",
    "\n",
    "    # calculate [r, H]:\n",
    "    rhs = -1j*comm(r, ham)/hbar\n",
    "\n",
    "    # prune off non-redundant elements\n",
    "    pruned_rhs = []\n",
    "    for i in range(dims):\n",
    "        for j in range(dims): \n",
    "            if i <= j:\n",
    "                pruned_rhs.append(rhs[i,j])\n",
    "\n",
    "    # sort arguments in the order of pruned_rhs\n",
    "    args = list(rhs.free_symbols)\n",
    "    args.sort(key=lambda x: x.__repr__())\n",
    "#     args.append(symbols('t'))\n",
    "\n",
    "    rhs = pruned_rhs\n",
    "\n",
    "    if showeqs is True:\n",
    "        print(\"Equations: \\n\")\n",
    "        for var,eq in zip(args,rhs):\n",
    "            print('D[' + str(var) + '] = ' + str(eq) + '\\n')\n",
    "\n",
    "    f = lambdify(args, rhs) # TODO: include t as argument\n",
    "    \n",
    "    if lambdifyhelp:\n",
    "        print(help(f))\n",
    "\n",
    "    # okay for time independent Hamiltonian, but need to work \n",
    "    # out for when H has explicit t dependence\n",
    "    def derivs(t, y):  \n",
    "        \"\"\"A wrapper for the lambdagenerated function f\"\"\"\n",
    "#         y.append(t)\n",
    "        return f(*y)\n",
    "    \n",
    "    return derivs"
   ]
  },
  {
   "cell_type": "code",
   "execution_count": 4,
   "metadata": {
    "scrolled": true
   },
   "outputs": [
    {
     "name": "stdout",
     "output_type": "stream",
     "text": [
      "Equations: \n",
      "\n",
      "D[r00] = -9.48252172113838e+33*I*(5.272859e-35*r01 - 5.272859e-35*conjugate(r01))\n",
      "\n",
      "D[r01] = -9.48252172113838e+33*I*(5.272859e-35*r00 - 1.0545718e-33*r01 + 5.272859e-35*r02 - 5.272859e-35*r11)\n",
      "\n",
      "D[r02] = -9.48252172113838e+33*I*(5.272859e-35*r01 - 5.272859e-35*r12)\n",
      "\n",
      "D[r11] = -9.48252172113838e+33*I*(-5.272859e-35*r01 + 5.272859e-35*r12 + 5.272859e-35*conjugate(r01) - 5.272859e-35*conjugate(r12))\n",
      "\n",
      "D[r12] = -9.48252172113838e+33*I*(-5.272859e-35*r02 + 5.272859e-35*r11 + 1.0545718e-33*r12 - 5.272859e-35*r22)\n",
      "\n",
      "D[r22] = -9.48252172113838e+33*I*(-5.272859e-35*r12 + 5.272859e-35*conjugate(r12))\n",
      "\n"
     ]
    }
   ],
   "source": [
    "#### here's how I want to call my RHS function\n",
    "\n",
    "# define symbolic matrices which can be made numeric later\n",
    "E1,E2,d,O = symbols('E1 E2 d O') # symbolic variables\n",
    "\n",
    "O1 = O2 = 1\n",
    "D = 10 # detuning much greater than Rabi freq\n",
    "\n",
    "H = hbar*Matrix([[0,O1/2,0],[O1/2,-D,O2/2],[0,O2/2,0]])\n",
    "r0 = np.zeros(6, dtype=complex)\n",
    "r0[0] = 1+0j # start in groundstate\n",
    "\n",
    "# this is much slower than the equivalent function \n",
    "# in symbolic stirap\n",
    "derivs = build_derivs(H, showeqs=True)"
   ]
  },
  {
   "cell_type": "code",
   "execution_count": 5,
   "metadata": {},
   "outputs": [
    {
     "data": {
      "text/plain": [
       "[-0j, -0.5j, -0j, -0j, -0j, -0j]"
      ]
     },
     "execution_count": 5,
     "metadata": {},
     "output_type": "execute_result"
    }
   ],
   "source": [
    "derivs(0, r0)"
   ]
  },
  {
   "cell_type": "code",
   "execution_count": 18,
   "metadata": {},
   "outputs": [
    {
     "name": "stdout",
     "output_type": "stream",
     "text": [
      "completed in 209.81526374816895 ms\n"
     ]
    }
   ],
   "source": [
    "# try to plot the solution in time\n",
    "t_exp = 35 # units lifetime maybe\n",
    "tpts = 10000\n",
    "\n",
    "t0 = time.time()\n",
    "soln = solve_ivp(derivs,[0,t_exp],r0)\n",
    "print(f\"completed in {(time.time()-t0)*1000} ms\")"
   ]
  },
  {
   "cell_type": "code",
   "execution_count": 20,
   "metadata": {},
   "outputs": [
    {
     "data": {
      "text/plain": [
       "<matplotlib.legend.Legend at 0x1cd2a5cf7b8>"
      ]
     },
     "execution_count": 20,
     "metadata": {},
     "output_type": "execute_result"
    },
    {
     "data": {
      "image/png": "[encoded data removed]",
      "text/plain": [
       "<Figure size 432x288 with 1 Axes>"
      ]
     },
     "metadata": {
      "needs_background": "light"
     },
     "output_type": "display_data"
    }
   ],
   "source": [
    "for i,var in zip(range(len(r0)), ['r00','r01','r02','r11','r12','r22']):\n",
    "    plt.plot(soln.t,np.real(soln.y[i]), label=var)\n",
    "plt.plot(soln.t, np.real(soln.y[0]+soln.y[-1]),label=\"r00+r22\")\n",
    "plt.legend(loc='best')"
   ]
  },
  {
   "cell_type": "code",
   "execution_count": null,
   "metadata": {},
   "outputs": [],
   "source": []
  }
 ],
 "metadata": {
  "kernelspec": {
   "display_name": "Python 3",
   "language": "python",
   "name": "python3"
  },
  "language_info": {
   "codemirror_mode": {
    "name": "ipython",
    "version": 3
   },
   "file_extension": ".py",
   "mimetype": "text/x-python",
   "name": "python",
   "nbconvert_exporter": "python",
   "pygments_lexer": "ipython3",
   "version": "3.7.3"
  }
 },
 "nbformat": 4,
 "nbformat_minor": 2
}
