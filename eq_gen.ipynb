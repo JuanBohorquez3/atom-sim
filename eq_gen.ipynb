{
 "cells": [
  {
   "cell_type": "code",
   "execution_count": 1,
   "metadata": {},
   "outputs": [],
   "source": [
    "# nth attempt to generate ODE eqs (Von Neumann RHS) \n",
    "# given a hamiltonian. and eventually be able to make the RWA"
   ]
  },
  {
   "cell_type": "code",
   "execution_count": 126,
   "metadata": {},
   "outputs": [],
   "source": [
    "import numpy as np\n",
    "from sympy.parsing.sympy_parser import parse_expr\n",
    "from sympy import MatrixSymbol,MatMul,Identity,I,Matrix,symbols,Function\n",
    "from sympy.utilities.lambdify import lambdify, implemented_function\n",
    "from sympy.utilities.iterables import flatten\n",
    "import sympy as sp\n",
    "from matplotlib import pyplot as plt\n",
    "from scipy.integrate import solve_ivp"
   ]
  },
  {
   "cell_type": "code",
   "execution_count": 127,
   "metadata": {},
   "outputs": [],
   "source": [
    "#### functions\n",
    "\n",
    "def comm(A,B):\n",
    "    \"\"\"\n",
    "    return commutator(A, B)[A,B]=A.B-B.A. Assumes symbolic matrix.\n",
    "    \"\"\"\n",
    "    assert A.shape == B.shape, (f\"A,B must have the same shape, but\"+\n",
    "                                f\"A.shape={A.shape} != B.shape={B.shape}\")\n",
    "    return (MatMul(A,B)-MatMul(B,A)) #.as_mutable"
   ]
  },
  {
   "cell_type": "code",
   "execution_count": 181,
   "metadata": {},
   "outputs": [],
   "source": [
    "def build_derivs(ham):\n",
    "    \"\"\"\n",
    "    return derivatives function with call signature:\n",
    "    derivs(y0, t) where y0 = [r11, r12, ...] \n",
    "    is the unraveled non-redundant density matrix\n",
    "    \n",
    "    'ham': a square sympy Matrix representing the full\n",
    "        system Hamiltonian\n",
    "    \"\"\"\n",
    "    assert ham.shape[0] == ham.shape[1], (\"Hamiltonian\"+\n",
    "                                             \" must be square, \"+\n",
    "                                             f\"not of shape \"+\n",
    "                                              str(ham.shape))\n",
    "    dims = ham.shape[0]\n",
    "    # build a symbolic density matrix\n",
    "    r = MatrixSymbol('r', dims, dims).as_mutable()\n",
    "    for i in range(dims):\n",
    "        for j in range(dims):\n",
    "            r[i,j] = symbols(f'r{i}{j}')\n",
    "            if i > j:\n",
    "                r[i,j] = np.conj(r[j,i])\n",
    "#     print(r) \n",
    "\n",
    "    # calculate [r, H]:\n",
    "    rhs = comm(r, ham)\n",
    "#     print(\"RHS eqs:\")\n",
    "#     for eq in rhs:\n",
    "#         print(eq)\n",
    "\n",
    "    # prune off non-redundant elements\n",
    "    pruned_rhs = []\n",
    "    for i in range(dim):\n",
    "        for j in range(dim): \n",
    "            if i >= j:\n",
    "                pruned_rhs.append(rhs[i,j])\n",
    "\n",
    "    # wrap rhs in a function \n",
    "    args = list(rhs.free_symbols)\n",
    "    args.sort(key=lambda x: x.__repr__())\n",
    "#     args.append(symbols('t'))\n",
    "\n",
    "    f = lambdify(args, pruned_rhs) # TODO: include t as argument\n",
    "    print(help(f))\n",
    "\n",
    "    # okay for time independent Hamiltonian, but need to work \n",
    "    # out for when H has explicit t dependence\n",
    "    def derivs(t, y):  \n",
    "        \"\"\"A wrapper for the lambdagenerated function f\"\"\"\n",
    "#         y.append(t)\n",
    "        return f(*y)\n",
    "    \n",
    "    return derivs"
   ]
  },
  {
   "cell_type": "code",
   "execution_count": 183,
   "metadata": {},
   "outputs": [
    {
     "data": {
      "text/plain": [
       "[1, 2, 3, 4]"
      ]
     },
     "execution_count": 183,
     "metadata": {},
     "output_type": "execute_result"
    }
   ],
   "source": [
    "# def foo(*args):\n",
    "#     print(args, type(args))\n",
    "    \n",
    "# yargs = ['a', 'b', 'c']\n",
    "# foo(*yargs) \n",
    "\n",
    "def bar(a, b, c, d):\n",
    "    return [a, b, c, d]\n",
    "\n",
    "xargs = [1, 2, 3, 4]   \n",
    "\n",
    "bar(*xargs)"
   ]
  },
  {
   "cell_type": "code",
   "execution_count": 184,
   "metadata": {},
   "outputs": [
    {
     "name": "stdout",
     "output_type": "stream",
     "text": [
      "Help on function _lambdifygenerated:\n",
      "\n",
      "_lambdifygenerated(r00, r01, r11)\n",
      "    Created with lambdify. Signature:\n",
      "    \n",
      "    func(r00, r01, r11)\n",
      "    \n",
      "    Expression:\n",
      "    \n",
      "    [-0.5*r01 + 0.5*conjugate(r01), 0.5*r00 - 0.5*r11 - conjugate(r01), 0.5*r01...\n",
      "    \n",
      "    Source code:\n",
      "    \n",
      "    def _lambdifygenerated(r00, r01, r11):\n",
      "        return ([-0.5*r01 + 0.5*conjugate(r01), 0.5*r00 - 0.5*r11 - conjugate(r01), 0.5*r01 - 0.5*conjugate(r01)])\n",
      "    \n",
      "    \n",
      "    Imported modules:\n",
      "\n",
      "None\n"
     ]
    }
   ],
   "source": [
    "#### here's how I want to call my RHS function\n",
    "\n",
    "# define symbolic matrices which can be made numeric later\n",
    "E1,E2,d,O = symbols('E1 E2 d O') # symbolic variables\n",
    "\n",
    "# Set the parameters of H; arbitrary for now\n",
    "E2 = 1 \n",
    "E1 = 0\n",
    "d = 1\n",
    "O = 1 #TODO: rewrite this as a sympy function O(t)\n",
    "\n",
    "# Declare the atom and interaction Hamiltonians\n",
    "H_a = Matrix([[E1,0],[0,E2]])\n",
    "H_field = Matrix([[0,-O/2],[-O/2,0]])\n",
    "H = H_a + H_field # the full Hamiltonian\n",
    "\n",
    "derivs = build_derivs(H)"
   ]
  },
  {
   "cell_type": "code",
   "execution_count": 185,
   "metadata": {},
   "outputs": [
    {
     "data": {
      "text/plain": [
       "[0j, (0.5+0j), 0j]"
      ]
     },
     "execution_count": 185,
     "metadata": {},
     "output_type": "execute_result"
    }
   ],
   "source": [
    "r0 = [1+0j, 0+0j, 0+0j]\n",
    "derivs(0, r0)"
   ]
  },
  {
   "cell_type": "code",
   "execution_count": 187,
   "metadata": {},
   "outputs": [
    {
     "data": {
      "text/plain": [
       "[<matplotlib.lines.Line2D at 0x26b882c1d68>]"
      ]
     },
     "execution_count": 187,
     "metadata": {},
     "output_type": "execute_result"
    },
    {
     "data": {
      "image/png": "[encoded data removed]",
      "text/plain": [
       "<Figure size 432x288 with 1 Axes>"
      ]
     },
     "metadata": {
      "needs_background": "light"
     },
     "output_type": "display_data"
    }
   ],
   "source": [
    "# try to plot the solution in time\n",
    "r0 = [1+0j, 0+0j, 0+0j]\n",
    "t_exp = 100\n",
    "dt = 0.01\n",
    "t_steps = np.arange(t_exp, step=dt)\n",
    "soln = solve_ivp(derivs,[0,t_exp],r0,t_eval=t_steps)\n",
    "plt.plot(soln.t,soln.y[0])"
   ]
  },
  {
   "cell_type": "code",
   "execution_count": null,
   "metadata": {},
   "outputs": [],
   "source": []
  }
 ],
 "metadata": {
  "kernelspec": {
   "display_name": "Python 3",
   "language": "python",
   "name": "python3"
  },
  "language_info": {
   "codemirror_mode": {
    "name": "ipython",
    "version": 3
   },
   "file_extension": ".py",
   "mimetype": "text/x-python",
   "name": "python",
   "nbconvert_exporter": "python",
   "pygments_lexer": "ipython3",
   "version": "3.7.3"
  }
 },
 "nbformat": 4,
 "nbformat_minor": 2
}
