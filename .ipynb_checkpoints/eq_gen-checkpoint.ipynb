{
 "cells": [
  {
   "cell_type": "code",
   "execution_count": 1,
   "metadata": {},
   "outputs": [],
   "source": [
    "# nth attempt to generate ODE eqs (Von Neumann RHS) \n",
    "# given a hamiltonian. and eventually be able to make the RWA"
   ]
  },
  {
   "cell_type": "code",
   "execution_count": 4,
   "metadata": {},
   "outputs": [],
   "source": [
    "import numpy as np\n",
    "from sympy.parsing.sympy_parser import parse_expr\n",
    "from sympy import MatrixSymbol,MatAdd,MatMul,Identity,I,Matrix,symbols\n",
    "from sympy.utilities.lambdify import lambdify, implemented_function\n",
    "from sympy.utilities.iterables import flatten\n",
    "import sympy as sp"
   ]
  },
  {
   "cell_type": "code",
   "execution_count": 53,
   "metadata": {},
   "outputs": [],
   "source": [
    "#### functions\n",
    "\n",
    "def comm(A,B):\n",
    "    \"\"\"\n",
    "    return commutator(A, B)[A,B]=A.B-B.A. Assumes symbolic matrix.\n",
    "    \"\"\"\n",
    "    assert A.shape == B.shape, (f\"A,B must have the same shape, but\"+\n",
    "                                f\"A.shape={A.shape} != B.shape={B.shape}\")\n",
    "    return (MatMul(A,B)-MatMul(B,A)) #.as_mutable\n",
    "\n",
    "def RHS(H):\n",
    "    \"\"\" return derivatives function with call signature:\n",
    "            derivs(y0, t) where y0 = [r11, r12, ...] \n",
    "            is the unraveled non-redundant density matrix\n",
    "    \"\"\"\n",
    "    \n",
    "    pass"
   ]
  },
  {
   "cell_type": "code",
   "execution_count": 36,
   "metadata": {},
   "outputs": [],
   "source": [
    "#### here's how I want to call my RHS function\n",
    "\n",
    "# define symbolic matrices which can be made numeric later\n",
    "E1,E2,d,O,t = symbols('E1 E2 d O t') # symbolic variables\n",
    "\n",
    "# Set the parameters of H; arbitrary for now\n",
    "O = 1; E2 = 1; E1 = 0; d = 1;\n",
    "\n",
    "# Declare the atom and interaction Hamiltonians\n",
    "H_a = Matrix([[E1,0],[0,E2]])\n",
    "H_field = Matrix([[0,-cc(O)/2],[-O/2,0]])\n",
    "H = H_a + H_field # the full Hamiltonian\n",
    "\n",
    "# dervis = RHS(H)"
   ]
  },
  {
   "cell_type": "code",
   "execution_count": 83,
   "metadata": {
    "collapsed": true
   },
   "outputs": [
    {
     "name": "stdout",
     "output_type": "stream",
     "text": [
      "Matrix([[r00, r01], [conjugate(r01), r11]])\n",
      "RHS eqs:\n",
      "-0.5*r01 + 0.5*conjugate(r01)\n",
      "-0.5*r00 + r01 + 0.5*r11\n",
      "0.5*r00 - 0.5*r11 - conjugate(r01)\n",
      "0.5*r01 - 0.5*conjugate(r01)\n",
      "Help on function _lambdifygenerated:\n",
      "\n",
      "_lambdifygenerated(r00, r01, r11, t)\n",
      "    Created with lambdify. Signature:\n",
      "    \n",
      "    func(r00, r01, r11, t)\n",
      "    \n",
      "    Expression:\n",
      "    \n",
      "    [-0.5*r01 + 0.5*conjugate(r01), 0.5*r00 - 0.5*r11 - conjugate(r01), 0.5*r01...\n",
      "    \n",
      "    Source code:\n",
      "    \n",
      "    def _lambdifygenerated(r00, r01, r11, t):\n",
      "        return ([-0.5*r01 + 0.5*conjugate(r01), 0.5*r00 - 0.5*r11 - conjugate(r01), 0.5*r01 - 0.5*conjugate(r01)])\n",
      "    \n",
      "    \n",
      "    Imported modules:\n",
      "\n"
     ]
    }
   ],
   "source": [
    "# build a symbolic density matrix\n",
    "dims = 2\n",
    "r = MatrixSymbol('r', dims, dims).as_mutable()\n",
    "for i in range(dims):\n",
    "    for j in range(dims):\n",
    "        r[i,j] = symbols(f'r{i}{j}')\n",
    "        if i > j:\n",
    "            r[i,j] = np.conj(r[j,i])\n",
    "print(r)\n",
    "\n",
    "# calculate [r, H]:\n",
    "rhs = comm(r, H)\n",
    "print(\"RHS eqs:\")\n",
    "for eq in rhs:\n",
    "    print(eq)\n",
    "    \n",
    "# prune off non-redundant elements\n",
    "pruned_rhs = []\n",
    "for i in range(dim):\n",
    "    for j in range(dim):\n",
    "        if i >= j:\n",
    "            pruned_rhs.append(rhs[i,j])\n",
    "    \n",
    "# wrap rhs in a function \n",
    "args = list(rhs.free_symbols)\n",
    "args.append(symbols('t'))\n",
    "args.sort(key=lambda x: x.__repr__())\n",
    "\n",
    "\n",
    "f = lambdify(args, pruned_rhs)\n",
    "help(f)\n",
    "\n",
    "# okay for time independent Hamiltonian, but need to work \n",
    "# out for when H has explicit t dependence\n",
    "def derivs(t, y):  \n",
    "    return f"
   ]
  },
  {
   "cell_type": "code",
   "execution_count": 75,
   "metadata": {
    "collapsed": true
   },
   "outputs": [
    {
     "data": {
      "text/plain": [
       "Matrix([\n",
       "[   0, -0.5],\n",
       "[-0.5,    1]])"
      ]
     },
     "execution_count": 75,
     "metadata": {},
     "output_type": "execute_result"
    }
   ],
   "source": [
    "# now, try to solve it:"
   ]
  },
  {
   "cell_type": "code",
   "execution_count": null,
   "metadata": {},
   "outputs": [],
   "source": []
  }
 ],
 "metadata": {
  "kernelspec": {
   "display_name": "Python 3",
   "language": "python",
   "name": "python3"
  },
  "language_info": {
   "codemirror_mode": {
    "name": "ipython",
    "version": 3
   },
   "file_extension": ".py",
   "mimetype": "text/x-python",
   "name": "python",
   "nbconvert_exporter": "python",
   "pygments_lexer": "ipython3",
   "version": "3.7.3"
  }
 },
 "nbformat": 4,
 "nbformat_minor": 2
}
